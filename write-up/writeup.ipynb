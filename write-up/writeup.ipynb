{
 "cells": [
  {
   "cell_type": "markdown",
   "id": "81f1b2de",
   "metadata": {},
   "source": [
    "## Introduction\n",
    "\n",
    "The project's goal is to analyze ad study quantitatively about one of the most important effect of colleges - economical mobility. For this analysis, we got data on college-level attributes, such as selectivity, tier, average parental income, tuition, type (four year v.s. two year), share of students that come from a underrepresented background and etc.. We also got data on the income outcome of the students as well as their family income, in order to constract various indicators for economic mobility. \n",
    "\n",
    "We used data from opportunityinsight.org.\n",
    "\n",
    "## Step 1 - data processing\n",
    "\n",
    "The data came production ready. However, for our purposes, we needed to join two data tables - the outcome table and the college attributes table - together. \n",
    "\n",
    "To do this, we did two things \n",
    "\n",
    "1) We compared the two dataframes' columns together using the ``` columns.differnce ``` and dropped some repetitivate columns to prevent repetitive columns' name being changed after merging\n",
    "\n",
    "2) we used pandas ``` merge ```\n",
    "\n"
   ]
  },
  {
   "cell_type": "markdown",
   "id": "6e06c91b",
   "metadata": {},
   "source": [
    "## Step 2 - visualization analysis\n",
    "\n",
    "We first did data exploratory and try to visualize the impact of college attributes on income by using different types of graphs, changing the display coloring options and overlappig with other statistics such as correlation. \n",
    "\n",
    "In this section, we did several things above and beyond\n",
    "\n",
    "1) Matplotlib advanced use: we explored in depth the different plotting, legends and other decorative visualization tricks. For example, we played with customized color bars to showcase how differen types of college see \"SAT Score to Median Earnings\" graph. \n",
    "\n",
    "2) Interactive playground: in order to better explore the data during our presentation, we created an interactive playground that incorporates an autocomplete input field that will pull up the mobiliy ranking for that school. To implement this widget, we used row-wise function ``` apply ``` \n",
    "\n",
    "\n"
   ]
  },
  {
   "cell_type": "markdown",
   "id": "0e1d255d",
   "metadata": {},
   "source": [
    "## Step 3 - Machine learning\n",
    "\n",
    "In the next step, we want to take the analysis one step further by using machine learning to model and predict how changing a college's attribute can improve or decrease the social-economical mobility. Our approach is to first explain the data using regressional analysis and second establish a credible model using we found from the analysis. \n",
    "\n",
    "### Explain\n",
    "\n",
    "In this section, we mostly used statsmodel's formula API to run our regression. Several things we did above and beyondwent beyond\n",
    "\n",
    "1) We learned the syntax for the formula API, including advanced syntax such as running regression on interaction variables. ``` y-variable ~ C(interact term 1):C(interact term 2) ``` \n",
    "\n",
    "2) We visualized the impact of different independent variables by retrieving the coefficients, filtering for the signifcant values and visualize these coeffcient. \n",
    "\n",
    "3) For our regressional analysis that is looking at the college attributes that help students move up from any income bracket, we had to contruct our own dependent variable, by iterating through different columns to retrieve data and compute and compound variable. \n",
    "\n",
    "\n",
    "\n",
    "\n"
   ]
  },
  {
   "cell_type": "markdown",
   "id": "e71be728",
   "metadata": {},
   "source": [
    "# Appendix\n"
   ]
  }
 ],
 "metadata": {
  "kernelspec": {
   "display_name": "Python 3 (ipykernel)",
   "language": "python",
   "name": "python3"
  },
  "language_info": {
   "codemirror_mode": {
    "name": "ipython",
    "version": 3
   },
   "file_extension": ".py",
   "mimetype": "text/x-python",
   "name": "python",
   "nbconvert_exporter": "python",
   "pygments_lexer": "ipython3",
   "version": "3.12.2"
  }
 },
 "nbformat": 4,
 "nbformat_minor": 5
}
