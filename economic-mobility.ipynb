{
 "cells": [
  {
   "cell_type": "markdown",
   "metadata": {},
   "source": [
    "# Economic mobility data\n",
    "\n",
    "\n",
    "## Data Description\n",
    "We have identified the longitudinal economic mobility statistics as our dataset. It comes from this NGO called https://opportunityinsights.org/. The data comes in as a flat file. The file reports parents’ household income distributions and key statistics on children’s income distributions conditional on their parents’ incomes by college tier and birth cohort. There is one row for each parent income ventile (5 percentile point bin) and college tier. In addition to the twenty ventiles, an additional row for each cohort provides data for the 99th parent income percentile for each cohort and\n",
    "college tier.\n",
    "\n",
    "The values in this file are exact statistics because they aggregate across multiple colleges. Following established disclosure standards, all dollar amounts are rounded to the nearest 100 and cells with fewer than 50 observations are omitted. Monetary values are measured in 2015 dollars. \n",
    "\n",
    "\n",
    "## Data description\n",
    "\n",
    "https://opportunityinsights.org/wp-content/uploads/2018/04/Codebook-MRC-Table-8.pdf\n",
    "\n",
    "## Analysis\n",
    "\n",
    "### General goal\n",
    "We want to figure out the determinants of social mobility and also observe the trend over time.\n",
    "\n",
    "\n",
    "#### Determinants of social mobility\n",
    "\n",
    "1. We want to create a social mobility index using the variables collected in the data\n",
    "2. We want to build a simple linear regresssion to discover what are some of the determinants of the social mobility and their regressional effect on the social mobility index, if any. \n",
    "\n",
    "\n",
    "#### Trend\n",
    "1. We want to graph the social mobility over time\n",
    "2. We want to graph the coefficient / effect of these determinants over time"
   ]
  },
  {
   "cell_type": "code",
   "execution_count": 7,
   "metadata": {},
   "outputs": [],
   "source": [
    "import pandas as pd\n",
    "import numpy as np\n",
    "df = pd.DataFrame({'A' : ['1', 'one', 'uno', 'une'],\n",
    "                   'B' : ['2', 'two', 'duo', 'deux'],\n",
    "                   'C' : ['3', 'three', 'tres', 'trois'],\n",
    "                   'D' : ['4', 'four', 'quatro', 'quatre']})\n",
    "header = ['Numeral','English','Spanish','French']\n",
    "\n",
    "def is_group1(word):\n",
    "    if len(word) <= 4 :\n",
    "        return True\n",
    "    return False\n",
    "\n",
    "def is_group1_group(df,ind,col):\n",
    "    try:\n",
    "        if is_group1(df[col].loc[ind]):\n",
    "            return 'Group 1'\n",
    "    except:\n",
    "        pass\n",
    "    return 'Group 2'\n",
    "\n",
    "grouped = df.groupby(lambda x: is_group1_group(df,x,'C'))"
   ]
  },
  {
   "cell_type": "code",
   "execution_count": 8,
   "metadata": {},
   "outputs": [
    {
     "data": {
      "text/plain": [
       "2"
      ]
     },
     "execution_count": 8,
     "metadata": {},
     "output_type": "execute_result"
    }
   ],
   "source": [
    "grouped.count()['A'].iloc[0] "
   ]
  },
  {
   "cell_type": "code",
   "execution_count": 11,
   "metadata": {},
   "outputs": [
    {
     "data": {
      "text/html": [
       "<div>\n",
       "<style scoped>\n",
       "    .dataframe tbody tr th:only-of-type {\n",
       "        vertical-align: middle;\n",
       "    }\n",
       "\n",
       "    .dataframe tbody tr th {\n",
       "        vertical-align: top;\n",
       "    }\n",
       "\n",
       "    .dataframe thead th {\n",
       "        text-align: right;\n",
       "    }\n",
       "</style>\n",
       "<table border=\"1\" class=\"dataframe\">\n",
       "  <thead>\n",
       "    <tr style=\"text-align: right;\">\n",
       "      <th></th>\n",
       "      <th>A</th>\n",
       "      <th>B</th>\n",
       "      <th>C</th>\n",
       "      <th>D</th>\n",
       "    </tr>\n",
       "  </thead>\n",
       "  <tbody>\n",
       "    <tr>\n",
       "      <th>0</th>\n",
       "      <td>1</td>\n",
       "      <td>2</td>\n",
       "      <td>3</td>\n",
       "      <td>4</td>\n",
       "    </tr>\n",
       "    <tr>\n",
       "      <th>1</th>\n",
       "      <td>one</td>\n",
       "      <td>two</td>\n",
       "      <td>three</td>\n",
       "      <td>four</td>\n",
       "    </tr>\n",
       "    <tr>\n",
       "      <th>2</th>\n",
       "      <td>uno</td>\n",
       "      <td>duo</td>\n",
       "      <td>tres</td>\n",
       "      <td>quatro</td>\n",
       "    </tr>\n",
       "    <tr>\n",
       "      <th>3</th>\n",
       "      <td>une</td>\n",
       "      <td>deux</td>\n",
       "      <td>trois</td>\n",
       "      <td>quatre</td>\n",
       "    </tr>\n",
       "  </tbody>\n",
       "</table>\n",
       "</div>"
      ],
      "text/plain": [
       "     A     B      C       D\n",
       "0    1     2      3       4\n",
       "1  one   two  three    four\n",
       "2  uno   duo   tres  quatro\n",
       "3  une  deux  trois  quatre"
      ]
     },
     "execution_count": 11,
     "metadata": {},
     "output_type": "execute_result"
    }
   ],
   "source": [
    "grouped.count()\n",
    "df"
   ]
  }
 ],
 "metadata": {
  "kernelspec": {
   "display_name": "Python 3 (ipykernel)",
   "language": "python",
   "name": "python3"
  },
  "language_info": {
   "codemirror_mode": {
    "name": "ipython",
    "version": 3
   },
   "file_extension": ".py",
   "mimetype": "text/x-python",
   "name": "python",
   "nbconvert_exporter": "python",
   "pygments_lexer": "ipython3",
   "version": "3.12.2"
  }
 },
 "nbformat": 4,
 "nbformat_minor": 4
}
