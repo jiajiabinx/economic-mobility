{
 "cells": [
  {
   "cell_type": "markdown",
   "metadata": {},
   "source": [
    "# Economic mobility data\n",
    "\n",
    "\n",
    "## Data Description\n",
    "We have identified the longitudinal economic mobility statistics as our dataset. It comes from this NGO called https://opportunityinsights.org/. The data comes in as a flat file. The file reports parents’ household income distributions and key statistics on children’s income distributions conditional on their parents’ incomes by college tier and birth cohort. There is one row for each parent income ventile (5 percentile point bin) and college tier. In addition to the twenty ventiles, an additional row for each cohort provides data for the 99th parent income percentile for each cohort and\n",
    "college tier.\n",
    "\n",
    "The values in this file are exact statistics because they aggregate across multiple colleges. Following established disclosure standards, all dollar amounts are rounded to the nearest 100 and cells with fewer than 50 observations are omitted. Monetary values are measured in 2015 dollars. \n",
    "\n",
    "\n",
    "## Data description\n",
    "\n",
    "https://opportunityinsights.org/wp-content/uploads/2018/04/Codebook-MRC-Table-8.pdf\n",
    "\n",
    "## Analysis\n",
    "\n",
    "### General goal\n",
    "We want to figure out the determinants of social mobility and also observe the trend over time.\n",
    "\n",
    "\n",
    "#### Determinants of social mobility\n",
    "\n",
    "1. We want to create a social mobility index using the variables collected in the data\n",
    "2. We want to build a simple linear regresssion to discover what are some of the determinants of the social mobility and their regressional effect on the social mobility index, if any. \n",
    "\n",
    "\n",
    "#### Trend\n",
    "1. We want to graph the social monbility over time\n",
    "2. We want to graph the coefficient / effect of these determinants over time\n",
    "\n",
    "\n",
    "\n",
    "\n"
   ]
  },
  {
   "cell_type": "markdown",
   "metadata": {},
   "source": []
  },
  {
   "cell_type": "markdown",
   "metadata": {},
   "source": []
  }
 ],
 "metadata": {
  "language_info": {
   "name": "python"
  }
 },
 "nbformat": 4,
 "nbformat_minor": 2
}
